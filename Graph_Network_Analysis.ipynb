{
  "nbformat": 4,
  "nbformat_minor": 0,
  "metadata": {
    "colab": {
      "name": "Graph_Network_Analysis.ipynb",
      "provenance": [],
      "collapsed_sections": [],
      "authorship_tag": "ABX9TyNI926w8mzUpYioasVdxUZk",
      "include_colab_link": true
    },
    "kernelspec": {
      "name": "python3",
      "display_name": "Python 3"
    },
    "language_info": {
      "name": "python"
    }
  },
  "cells": [
    {
      "cell_type": "markdown",
      "metadata": {
        "id": "view-in-github",
        "colab_type": "text"
      },
      "source": [
        "<a href=\"https://colab.research.google.com/github/iamBehzad/Complex-Networks/blob/main/ComplexNetworkExcercises_1400_12_20.ipynb\" target=\"_parent\"><img src=\"https://colab.research.google.com/assets/colab-badge.svg\" alt=\"Open In Colab\"/></a>"
      ]
    },
    {
      "cell_type": "markdown",
      "source": [
        "#Author : Behzad Abbasi - 1401-02-25 \n"
      ],
      "metadata": {
        "id": "Vhl4o1GPxpEZ"
      }
    },
    {
      "cell_type": "code",
      "source": [
        "import networkx as nx\n",
        "import numpy as np"
      ],
      "metadata": {
        "id": "sqNSvn6OioO3"
      },
      "execution_count": null,
      "outputs": []
    },
    {
      "cell_type": "code",
      "source": [
        "G=nx.Graph()\n",
        "\n",
        "e=[(1,2,3),(1,3,2),(1,4,1),(2,5,1),(3,4,4),(3,6,3),(4,5,2),(5,7,3)]\n",
        "G.add_weighted_edges_from(e)\n",
        "\n",
        "pos=nx.spring_layout(G)\n",
        "nx.draw(G,pos,labels={n: n for n in G.nodes()})\n",
        "l={(1,2):3,(1,3):2,(1,4):1,(2,5):1,(3,4):4,(3,6):3,(4,5):2,(5,7):3}\n",
        "nx.draw_networkx_edge_labels(G,pos,edge_labels=l,font_color='r');"
      ],
      "metadata": {
        "id": "R5GmA_zeiq0P",
        "colab": {
          "base_uri": "https://localhost:8080/",
          "height": 319
        },
        "outputId": "f8130d9a-bcdd-4138-990e-8a0fbc26c5ab"
      },
      "execution_count": null,
      "outputs": [
        {
          "output_type": "display_data",
          "data": {
            "text/plain": [
              "<Figure size 432x288 with 1 Axes>"
            ],
            "image/png": "[encoded data removed]"
          },
          "metadata": {}
        }
      ]
    },
    {
      "cell_type": "code",
      "source": [
        "for v in G:\n",
        "    print(v,G.degree(v))\n",
        "np.sum([val for (node, val) in G.degree()] )    "
      ],
      "metadata": {
        "colab": {
          "base_uri": "https://localhost:8080/"
        },
        "id": "SjRN1LiOll4S",
        "outputId": "cdb0eb03-08b6-43c5-9287-da78dfa01664"
      },
      "execution_count": null,
      "outputs": [
        {
          "output_type": "stream",
          "name": "stdout",
          "text": [
            "1 3\n",
            "2 2\n",
            "3 3\n",
            "4 3\n",
            "5 3\n",
            "6 1\n",
            "7 1\n"
          ]
        },
        {
          "output_type": "execute_result",
          "data": {
            "text/plain": [
              "16"
            ]
          },
          "metadata": {},
          "execution_count": 5
        }
      ]
    },
    {
      "cell_type": "code",
      "source": [
        "A=nx.adjacency_matrix(G)\n",
        "print(A.todense())"
      ],
      "metadata": {
        "colab": {
          "base_uri": "https://localhost:8080/"
        },
        "id": "9zpPk95yl5Ho",
        "outputId": "3f2fe197-b339-41d7-e3a5-4f7243f4a673"
      },
      "execution_count": null,
      "outputs": [
        {
          "output_type": "stream",
          "name": "stdout",
          "text": [
            "[[0 3 2 1 0 0 0]\n",
            " [3 0 0 0 1 0 0]\n",
            " [2 0 0 4 0 3 0]\n",
            " [1 0 4 0 2 0 0]\n",
            " [0 1 0 2 0 0 3]\n",
            " [0 0 3 0 0 0 0]\n",
            " [0 0 0 0 3 0 0]]\n"
          ]
        }
      ]
    },
    {
      "cell_type": "code",
      "source": [
        "L=nx.laplacian_matrix(G)\n",
        "print(L.todense())"
      ],
      "metadata": {
        "colab": {
          "base_uri": "https://localhost:8080/"
        },
        "id": "Y4x1F73YrZPb",
        "outputId": "f560f410-6c8d-47a4-ea0f-3e1cd85db8a4"
      },
      "execution_count": null,
      "outputs": [
        {
          "output_type": "stream",
          "name": "stdout",
          "text": [
            "[[ 6 -3 -2 -1  0  0  0]\n",
            " [-3  4  0  0 -1  0  0]\n",
            " [-2  0  9 -4  0 -3  0]\n",
            " [-1  0 -4  7 -2  0  0]\n",
            " [ 0 -1  0 -2  6  0 -3]\n",
            " [ 0  0 -3  0  0  3  0]\n",
            " [ 0  0  0  0 -3  0  3]]\n"
          ]
        }
      ]
    },
    {
      "cell_type": "code",
      "source": [
        "S=nx.shortest_path(G,weight='weight')\n",
        "print(S)\n"
      ],
      "metadata": {
        "colab": {
          "base_uri": "https://localhost:8080/"
        },
        "id": "QHI_Vcpxwhmc",
        "outputId": "fc4302e6-3b9f-4bdf-984c-d97d4211f30f"
      },
      "execution_count": null,
      "outputs": [
        {
          "output_type": "stream",
          "name": "stdout",
          "text": [
            "{1: {1: [1], 2: [1, 2], 3: [1, 3], 4: [1, 4], 5: [1, 4, 5], 6: [1, 3, 6], 7: [1, 4, 5, 7]}, 2: {2: [2], 1: [2, 1], 5: [2, 5], 4: [2, 5, 4], 7: [2, 5, 7], 3: [2, 1, 3], 6: [2, 1, 3, 6]}, 3: {3: [3], 1: [3, 1], 4: [3, 1, 4], 6: [3, 6], 2: [3, 1, 2], 5: [3, 1, 4, 5], 7: [3, 1, 4, 5, 7]}, 4: {4: [4], 1: [4, 1], 3: [4, 1, 3], 5: [4, 5], 2: [4, 5, 2], 7: [4, 5, 7], 6: [4, 1, 3, 6]}, 5: {5: [5], 2: [5, 2], 4: [5, 4], 7: [5, 7], 1: [5, 4, 1], 3: [5, 4, 1, 3], 6: [5, 4, 1, 3, 6]}, 6: {6: [6], 3: [6, 3], 1: [6, 3, 1], 4: [6, 3, 1, 4], 2: [6, 3, 1, 2], 5: [6, 3, 1, 4, 5], 7: [6, 3, 1, 4, 5, 7]}, 7: {7: [7], 5: [7, 5], 2: [7, 5, 2], 4: [7, 5, 4], 1: [7, 5, 4, 1], 3: [7, 5, 4, 1, 3], 6: [7, 5, 4, 1, 3, 6]}}\n"
          ]
        }
      ]
    },
    {
      "cell_type": "code",
      "source": [
        "p = dict(nx.shortest_path_length(G,weight='weight'))\n",
        "print(p)"
      ],
      "metadata": {
        "colab": {
          "base_uri": "https://localhost:8080/"
        },
        "id": "1PpJuBnhyOIV",
        "outputId": "57e0ad64-3fe7-4652-d3ac-6050396e904d"
      },
      "execution_count": null,
      "outputs": [
        {
          "output_type": "stream",
          "name": "stdout",
          "text": [
            "{1: {1: 0, 4: 1, 3: 2, 2: 3, 5: 3, 6: 5, 7: 6}, 2: {2: 0, 5: 1, 1: 3, 4: 3, 7: 4, 3: 5, 6: 8}, 3: {3: 0, 1: 2, 6: 3, 4: 3, 2: 5, 5: 5, 7: 8}, 4: {4: 0, 1: 1, 5: 2, 3: 3, 2: 3, 7: 5, 6: 6}, 5: {5: 0, 2: 1, 4: 2, 7: 3, 1: 3, 3: 5, 6: 8}, 6: {6: 0, 3: 3, 1: 5, 4: 6, 2: 8, 5: 8, 7: 11}, 7: {7: 0, 5: 3, 2: 4, 4: 5, 1: 6, 3: 8, 6: 11}}\n"
          ]
        }
      ]
    },
    {
      "cell_type": "code",
      "source": [
        "print(nx.average_shortest_path_length(G,weight='weight'))"
      ],
      "metadata": {
        "colab": {
          "base_uri": "https://localhost:8080/"
        },
        "id": "AIMB0bAG3hqm",
        "outputId": "eda3c50f-d099-4fb9-fb3f-19a27ec89f4f"
      },
      "execution_count": null,
      "outputs": [
        {
          "output_type": "stream",
          "name": "stdout",
          "text": [
            "4.523809523809524\n"
          ]
        }
      ]
    },
    {
      "cell_type": "code",
      "source": [
        "G.degree(weight='weight')"
      ],
      "metadata": {
        "colab": {
          "base_uri": "https://localhost:8080/"
        },
        "id": "ZHbwWMiO5n2O",
        "outputId": "474ee8f6-4f4d-49e9-eacf-3d09d2d9690c"
      },
      "execution_count": null,
      "outputs": [
        {
          "output_type": "execute_result",
          "data": {
            "text/plain": [
              "DegreeView({1: 6, 2: 4, 3: 9, 4: 7, 5: 6, 6: 3, 7: 3})"
            ]
          },
          "metadata": {},
          "execution_count": 79
        }
      ]
    },
    {
      "cell_type": "code",
      "source": [
        "from networkx.algorithms.centrality.betweenness import betweenness_centrality\n",
        "betweenness_centrality(G)"
      ],
      "metadata": {
        "colab": {
          "base_uri": "https://localhost:8080/"
        },
        "id": "dNAO01yB6n6m",
        "outputId": "d5c07443-f34f-4d32-f235-6987c3fed79b"
      },
      "execution_count": null,
      "outputs": [
        {
          "output_type": "execute_result",
          "data": {
            "text/plain": [
              "{1: 0.16666666666666666,\n",
              " 2: 0.06666666666666667,\n",
              " 3: 0.3333333333333333,\n",
              " 4: 0.3333333333333333,\n",
              " 5: 0.36666666666666664,\n",
              " 6: 0.0,\n",
              " 7: 0.0}"
            ]
          },
          "metadata": {},
          "execution_count": 5
        }
      ]
    },
    {
      "cell_type": "code",
      "source": [
        "nx.clustering(G)"
      ],
      "metadata": {
        "colab": {
          "base_uri": "https://localhost:8080/"
        },
        "id": "xAsrl2Qm7oe5",
        "outputId": "e86614f4-d4bc-4665-f47a-1576d11ab9ae"
      },
      "execution_count": null,
      "outputs": [
        {
          "output_type": "execute_result",
          "data": {
            "text/plain": [
              "{1: 0.3333333333333333,\n",
              " 2: 0,\n",
              " 3: 0.3333333333333333,\n",
              " 4: 0.3333333333333333,\n",
              " 5: 0,\n",
              " 6: 0,\n",
              " 7: 0}"
            ]
          },
          "metadata": {},
          "execution_count": 11
        }
      ]
    },
    {
      "cell_type": "code",
      "source": [
        "dict = nx.clustering(G)\n",
        "data = list(dict. items())\n",
        "an_array = np. array(data)\n",
        "print(an_array)\n",
        "print(np.mean(an_array[:,1]))"
      ],
      "metadata": {
        "colab": {
          "base_uri": "https://localhost:8080/"
        },
        "id": "QoM7ZwID8nBX",
        "outputId": "2c7f4aa3-c4a3-4014-d138-856214ca0198"
      },
      "execution_count": null,
      "outputs": [
        {
          "output_type": "stream",
          "name": "stdout",
          "text": [
            "[[1.         0.33333333]\n",
            " [2.         0.        ]\n",
            " [3.         0.33333333]\n",
            " [4.         0.33333333]\n",
            " [5.         0.        ]\n",
            " [6.         0.        ]\n",
            " [7.         0.        ]]\n",
            "0.14285714285714285\n"
          ]
        }
      ]
    },
    {
      "cell_type": "code",
      "source": [
        "from networkx.algorithms.efficiency_measures import global_efficiency\n",
        "global_efficiency(G)"
      ],
      "metadata": {
        "colab": {
          "base_uri": "https://localhost:8080/"
        },
        "id": "a7Y8TMP98IEw",
        "outputId": "bde3305d-94b4-49a3-e2c0-b06bd2ec300b"
      },
      "execution_count": null,
      "outputs": [
        {
          "output_type": "execute_result",
          "data": {
            "text/plain": [
              "0.6468253968253966"
            ]
          },
          "metadata": {},
          "execution_count": 7
        }
      ]
    },
    {
      "cell_type": "code",
      "source": [
        "from networkx.algorithms.efficiency_measures import local_efficiency\n",
        "local_efficiency(G)"
      ],
      "metadata": {
        "colab": {
          "base_uri": "https://localhost:8080/"
        },
        "id": "cqn6W28v8vTH",
        "outputId": "ba4d30b4-8cd9-4a9d-d0e5-f73faf318c1f"
      },
      "execution_count": null,
      "outputs": [
        {
          "output_type": "execute_result",
          "data": {
            "text/plain": [
              "0.14285714285714285"
            ]
          },
          "metadata": {},
          "execution_count": 8
        }
      ]
    }
  ]
}
