{
  "nbformat": 4,
  "nbformat_minor": 0,
  "metadata": {
    "colab": {
      "provenance": [],
      "authorship_tag": "ABX9TyM+DLe1yMhteM8f/AuG510X",
      "include_colab_link": true
    },
    "kernelspec": {
      "name": "python3",
      "display_name": "Python 3"
    },
    "language_info": {
      "name": "python"
    }
  },
  "cells": [
    {
      "cell_type": "markdown",
      "metadata": {
        "id": "view-in-github",
        "colab_type": "text"
      },
      "source": [
        "<a href=\"https://colab.research.google.com/github/iamBehzad/Complex-Networks-Python/blob/main/Graph_Network_Analysis.ipynb\" target=\"_parent\"><img src=\"https://colab.research.google.com/assets/colab-badge.svg\" alt=\"Open In Colab\"/></a>"
      ]
    },
    {
      "cell_type": "code",
      "execution_count": 6,
      "metadata": {
        "colab": {
          "base_uri": "https://localhost:8080/",
          "height": 516
        },
        "id": "UcmNGnlj2XDP",
        "outputId": "3c050b1c-b060-4a7c-ba25-3c987f265e68"
      },
      "outputs": [
        {
          "output_type": "display_data",
          "data": {
            "text/plain": [
              "<Figure size 640x480 with 1 Axes>"
            ],
            "image/png": "[encoded data removed]"
          },
          "metadata": {}
        }
      ],
      "source": [
        "import networkx as nx\n",
        "import numpy as np\n",
        "\n",
        "G=nx.Graph()\n",
        "\n",
        "e=[(1,2,3),(1,3,2),(1,4,1),(2,5,1),(3,4,4),(3,6,3),(4,5,2),(5,7,3)]\n",
        "G.add_weighted_edges_from(e)\n",
        "\n",
        "pos=nx.spring_layout(G)\n",
        "nx.draw(G,pos,labels={n: n for n in G.nodes()})\n",
        "l={(1,2):3,(1,3):2,(1,4):1,(2,5):1,(3,4):4,(3,6):3,(4,5):2,(5,7):3}\n",
        "nx.draw_networkx_edge_labels(G,pos,edge_labels=l,font_color='r');"
      ]
    },
    {
      "cell_type": "code",
      "source": [
        "for v in G:\n",
        "    print(v,G.degree(v))\n",
        "np.sum([val for (node, val) in G.degree()] )"
      ],
      "metadata": {
        "colab": {
          "base_uri": "https://localhost:8080/"
        },
        "id": "O_W9xtiY2eQT",
        "outputId": "79703b85-e21d-49cb-e70d-d0c7e9ddd269"
      },
      "execution_count": 7,
      "outputs": [
        {
          "output_type": "stream",
          "name": "stdout",
          "text": [
            "1 3\n",
            "2 2\n",
            "3 3\n",
            "4 3\n",
            "5 3\n",
            "6 1\n",
            "7 1\n"
          ]
        },
        {
          "output_type": "execute_result",
          "data": {
            "text/plain": [
              "16"
            ]
          },
          "metadata": {},
          "execution_count": 7
        }
      ]
    },
    {
      "cell_type": "code",
      "source": [
        "A=nx.adjacency_matrix(G)\n",
        "print(A.todense())"
      ],
      "metadata": {
        "colab": {
          "base_uri": "https://localhost:8080/"
        },
        "id": "YRfCNnsT2vBp",
        "outputId": "6f995b1e-1fb2-44c8-9191-b59fbb09efdb"
      },
      "execution_count": 8,
      "outputs": [
        {
          "output_type": "stream",
          "name": "stdout",
          "text": [
            "[[0 3 2 1 0 0 0]\n",
            " [3 0 0 0 1 0 0]\n",
            " [2 0 0 4 0 3 0]\n",
            " [1 0 4 0 2 0 0]\n",
            " [0 1 0 2 0 0 3]\n",
            " [0 0 3 0 0 0 0]\n",
            " [0 0 0 0 3 0 0]]\n"
          ]
        }
      ]
    },
    {
      "cell_type": "code",
      "source": [
        "L=nx.laplacian_matrix(G)\n",
        "print(L.todense())"
      ],
      "metadata": {
        "colab": {
          "base_uri": "https://localhost:8080/"
        },
        "id": "2obELnXd2x3x",
        "outputId": "f7d54516-833c-48be-9b47-ea265c1cb1e2"
      },
      "execution_count": 9,
      "outputs": [
        {
          "output_type": "stream",
          "name": "stdout",
          "text": [
            "[[ 6 -3 -2 -1  0  0  0]\n",
            " [-3  4  0  0 -1  0  0]\n",
            " [-2  0  9 -4  0 -3  0]\n",
            " [-1  0 -4  7 -2  0  0]\n",
            " [ 0 -1  0 -2  6  0 -3]\n",
            " [ 0  0 -3  0  0  3  0]\n",
            " [ 0  0  0  0 -3  0  3]]\n"
          ]
        }
      ]
    },
    {
      "cell_type": "code",
      "source": [
        "S=nx.shortest_path(G,weight='weight')\n",
        "print(S)"
      ],
      "metadata": {
        "colab": {
          "base_uri": "https://localhost:8080/"
        },
        "id": "ltUuOCSh20MJ",
        "outputId": "2296c4e3-64c4-45fb-81e7-4377fd5c2e17"
      },
      "execution_count": 10,
      "outputs": [
        {
          "output_type": "stream",
          "name": "stdout",
          "text": [
            "{1: {1: [1], 2: [1, 2], 3: [1, 3], 4: [1, 4], 5: [1, 4, 5], 6: [1, 3, 6], 7: [1, 4, 5, 7]}, 2: {2: [2], 1: [2, 1], 5: [2, 5], 4: [2, 5, 4], 7: [2, 5, 7], 3: [2, 1, 3], 6: [2, 1, 3, 6]}, 3: {3: [3], 1: [3, 1], 4: [3, 1, 4], 6: [3, 6], 2: [3, 1, 2], 5: [3, 1, 4, 5], 7: [3, 1, 4, 5, 7]}, 4: {4: [4], 1: [4, 1], 3: [4, 1, 3], 5: [4, 5], 2: [4, 5, 2], 7: [4, 5, 7], 6: [4, 1, 3, 6]}, 5: {5: [5], 2: [5, 2], 4: [5, 4], 7: [5, 7], 1: [5, 4, 1], 3: [5, 4, 1, 3], 6: [5, 4, 1, 3, 6]}, 6: {6: [6], 3: [6, 3], 1: [6, 3, 1], 4: [6, 3, 1, 4], 2: [6, 3, 1, 2], 5: [6, 3, 1, 4, 5], 7: [6, 3, 1, 4, 5, 7]}, 7: {7: [7], 5: [7, 5], 2: [7, 5, 2], 4: [7, 5, 4], 1: [7, 5, 4, 1], 3: [7, 5, 4, 1, 3], 6: [7, 5, 4, 1, 3, 6]}}\n"
          ]
        }
      ]
    },
    {
      "cell_type": "code",
      "source": [
        "p = dict(nx.shortest_path_length(G,weight='weight'))\n",
        "print(p)"
      ],
      "metadata": {
        "colab": {
          "base_uri": "https://localhost:8080/"
        },
        "id": "0ts9j5ii21jq",
        "outputId": "d1c472e6-5d9e-47bb-cfad-4e1b5b7d1489"
      },
      "execution_count": 11,
      "outputs": [
        {
          "output_type": "stream",
          "name": "stdout",
          "text": [
            "{1: {1: 0, 4: 1, 3: 2, 2: 3, 5: 3, 6: 5, 7: 6}, 2: {2: 0, 5: 1, 1: 3, 4: 3, 7: 4, 3: 5, 6: 8}, 3: {3: 0, 1: 2, 6: 3, 4: 3, 2: 5, 5: 5, 7: 8}, 4: {4: 0, 1: 1, 5: 2, 3: 3, 2: 3, 7: 5, 6: 6}, 5: {5: 0, 2: 1, 4: 2, 7: 3, 1: 3, 3: 5, 6: 8}, 6: {6: 0, 3: 3, 1: 5, 4: 6, 2: 8, 5: 8, 7: 11}, 7: {7: 0, 5: 3, 2: 4, 4: 5, 1: 6, 3: 8, 6: 11}}\n"
          ]
        }
      ]
    },
    {
      "cell_type": "code",
      "source": [
        "print(nx.average_shortest_path_length(G,weight='weight'))"
      ],
      "metadata": {
        "colab": {
          "base_uri": "https://localhost:8080/"
        },
        "id": "eDNY-N8u24BZ",
        "outputId": "1e4696d2-4c19-4d84-cbb0-cca9daf843a3"
      },
      "execution_count": 12,
      "outputs": [
        {
          "output_type": "stream",
          "name": "stdout",
          "text": [
            "4.523809523809524\n"
          ]
        }
      ]
    },
    {
      "cell_type": "code",
      "source": [
        "G.degree(weight='weight')\n",
        "\n",
        "from networkx.algorithms.centrality.betweenness import betweenness_centrality\n",
        "betweenness_centrality(G)"
      ],
      "metadata": {
        "colab": {
          "base_uri": "https://localhost:8080/"
        },
        "id": "WP873EQL28o6",
        "outputId": "49abd254-6413-4409-c7df-8c5ba04c45a3"
      },
      "execution_count": 13,
      "outputs": [
        {
          "output_type": "execute_result",
          "data": {
            "text/plain": [
              "{1: 0.16666666666666666,\n",
              " 2: 0.06666666666666667,\n",
              " 3: 0.3333333333333333,\n",
              " 4: 0.3333333333333333,\n",
              " 5: 0.36666666666666664,\n",
              " 6: 0.0,\n",
              " 7: 0.0}"
            ]
          },
          "metadata": {},
          "execution_count": 13
        }
      ]
    },
    {
      "cell_type": "code",
      "source": [
        "dict = nx.clustering(G)\n",
        "data = list(dict. items())\n",
        "an_array = np. array(data)\n",
        "print(an_array)\n",
        "print(np.mean(an_array[:,1]))"
      ],
      "metadata": {
        "colab": {
          "base_uri": "https://localhost:8080/"
        },
        "id": "xr88fiEW2-ui",
        "outputId": "487eb6ed-7991-4b1d-cf66-ccb046215f29"
      },
      "execution_count": 19,
      "outputs": [
        {
          "output_type": "stream",
          "name": "stdout",
          "text": [
            "[[1.         0.33333333]\n",
            " [2.         0.        ]\n",
            " [3.         0.33333333]\n",
            " [4.         0.33333333]\n",
            " [5.         0.        ]\n",
            " [6.         0.        ]\n",
            " [7.         0.        ]]\n",
            "0.14285714285714285\n"
          ]
        }
      ]
    },
    {
      "cell_type": "code",
      "source": [
        "from networkx.algorithms.efficiency_measures import global_efficiency\n",
        "global_efficiency(G)"
      ],
      "metadata": {
        "colab": {
          "base_uri": "https://localhost:8080/"
        },
        "id": "9yw5DvNP3DQC",
        "outputId": "0cbf52e5-bde4-4841-95f1-1e3818c18453"
      },
      "execution_count": 15,
      "outputs": [
        {
          "output_type": "execute_result",
          "data": {
            "text/plain": [
              "0.6468253968253966"
            ]
          },
          "metadata": {},
          "execution_count": 15
        }
      ]
    },
    {
      "cell_type": "code",
      "source": [
        "from networkx.algorithms.efficiency_measures import local_efficiency\n",
        "local_efficiency(G)"
      ],
      "metadata": {
        "colab": {
          "base_uri": "https://localhost:8080/"
        },
        "id": "ZyRe-S_x3EaC",
        "outputId": "1a6828e3-38fa-4ac2-ea05-b3dbee9a528f"
      },
      "execution_count": 16,
      "outputs": [
        {
          "output_type": "execute_result",
          "data": {
            "text/plain": [
              "0.14285714285714285"
            ]
          },
          "metadata": {},
          "execution_count": 16
        }
      ]
    }
  ]
}